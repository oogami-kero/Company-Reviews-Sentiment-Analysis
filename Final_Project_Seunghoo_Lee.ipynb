{
  "nbformat": 4,
  "nbformat_minor": 0,
  "metadata": {
    "colab": {
      "provenance": []
    },
    "kernelspec": {
      "name": "python3",
      "display_name": "Python 3"
    },
    "language_info": {
      "name": "python"
    }
  },
  "cells": [
    {
      "cell_type": "markdown",
      "source": [
        "# Final Project\n",
        "CS 3120 - Seunghee Lee\n",
        "\n",
        "Using Sentiment Analysis to analyze business reviews to determine if they are positive or not"
      ],
      "metadata": {
        "id": "mh7c_5TRuvax"
      }
    },
    {
      "cell_type": "markdown",
      "source": [
        "# Problem: \n",
        "Hotels, restaurants, and other businesses need an easier way to tell if reviews left on review sites such as TripAdvisor or Google are net positive or not without having to manually parse through all the reviews. If this can be automated with the use of Machine Learning, it would greatly benefit businesses."
      ],
      "metadata": {
        "id": "0HyroD13wwP4"
      }
    },
    {
      "cell_type": "markdown",
      "source": [
        "# Proposed Solution:\n",
        "Utilize Sentiment Analysis to create a model to parse through raw customer review data to get the overall satisfaction rating of customers."
      ],
      "metadata": {
        "id": "5_ssOeCGxMcZ"
      }
    },
    {
      "cell_type": "markdown",
      "source": [
        "For this project, I will be using datasets from Kaggle, cited below. Various reviews of restaurants will be used to test the ability of the sentiment intensity analyzer and the accuracy of the prediction model."
      ],
      "metadata": {
        "id": "Y0xWITD0x5p8"
      }
    },
    {
      "cell_type": "markdown",
      "source": [
        "# Part 1 - Import NLTK and Sentiment Intensity Analyzerfrom VADER\n",
        "The first thing we need to do for a sentiment analyzer is import NLTK (Natural Language Toolkit)\n",
        "\n",
        "This is the go to API for natural language processing and allows us to process text data better.\n",
        "\n",
        "We will also be importing the SentimentIntensityAnalyzer from the nltk package for the basis of our sentiment analysis."
      ],
      "metadata": {
        "id": "clByViK-vH3d"
      }
    },
    {
      "cell_type": "code",
      "execution_count": null,
      "metadata": {
        "colab": {
          "base_uri": "https://localhost:8080/"
        },
        "id": "Du5QUPxculPA",
        "outputId": "e902e8a3-87af-43f9-ed13-235c098a16b1"
      },
      "outputs": [
        {
          "output_type": "stream",
          "name": "stderr",
          "text": [
            "[nltk_data] Downloading package vader_lexicon to /root/nltk_data...\n"
          ]
        }
      ],
      "source": [
        "import nltk\n",
        "nltk.download('vader_lexicon')\n",
        "\n",
        "from nltk.sentiment.vader import SentimentIntensityAnalyzer\n",
        "sentimentAnalyzer = SentimentIntensityAnalyzer()"
      ]
    },
    {
      "cell_type": "markdown",
      "source": [
        "# Part 2 - Test the Sentiment Analyzer \n",
        "\n",
        "We can test the analyzer to see if it is working sorrectly by feeding it known positive and negative text.\n",
        "\n",
        "The analyzer will give four values, negative, neutral, positive, and compound. These show how negative, neutral, or positive a piece of text is. The fourth value, the compound score, is the calculated sum of all the lexicon ratings normalized between -1(most negative) and +1 (most positive).\n",
        "\n",
        "So we can judge the sentiment of a chunk of text or a string by looking at this compound value as such:\n",
        "\n",
        "positive  : (compound score >= 0.05) \n",
        "\n",
        "neutral  : (compound score > -0.05) & (compound score < 0.05) \n",
        "\n",
        "negative  : (compound score <= -0.05)"
      ],
      "metadata": {
        "id": "uFXploLZwGRC"
      }
    },
    {
      "cell_type": "markdown",
      "source": [
        "First we will feed the analyzer a positive statment."
      ],
      "metadata": {
        "id": "FKfAsNaiJXGa"
      }
    },
    {
      "cell_type": "code",
      "source": [
        "positive = \"I had a fantastic time!\"\n",
        "sentimentAnalyzer.polarity_scores(positive)"
      ],
      "metadata": {
        "colab": {
          "base_uri": "https://localhost:8080/"
        },
        "id": "dy4LB2ZhH6PW",
        "outputId": "ce553923-6dd0-4334-bb81-9b672e3a7386"
      },
      "execution_count": null,
      "outputs": [
        {
          "output_type": "execute_result",
          "data": {
            "text/plain": [
              "{'neg': 0.0, 'neu': 0.339, 'pos': 0.661, 'compound': 0.5983}"
            ]
          },
          "metadata": {},
          "execution_count": 29
        }
      ]
    },
    {
      "cell_type": "markdown",
      "source": [
        "We can see here that the string, **\"I had a fantastic time!!!!\"** had a compound score of 0.5983, showing that this statment has a very positive sentiment\n"
      ],
      "metadata": {
        "id": "buMLPPTbJkAy"
      }
    },
    {
      "cell_type": "markdown",
      "source": [
        "On the other hand, a negative statement should give us a negative compound score."
      ],
      "metadata": {
        "id": "NpPyxcMjJzXP"
      }
    },
    {
      "cell_type": "code",
      "source": [
        "negative = \"I really did not like the bed and the room was too stuffy.\"\n",
        "sentimentAnalyzer.polarity_scores(negative)"
      ],
      "metadata": {
        "colab": {
          "base_uri": "https://localhost:8080/"
        },
        "id": "lxF-v6vrJ8cW",
        "outputId": "c5d2a428-5577-4fdb-dca2-e67d1afe3201"
      },
      "execution_count": null,
      "outputs": [
        {
          "output_type": "execute_result",
          "data": {
            "text/plain": [
              "{'neg': 0.177, 'neu': 0.823, 'pos': 0.0, 'compound': -0.3343}"
            ]
          },
          "metadata": {},
          "execution_count": 19
        }
      ]
    },
    {
      "cell_type": "markdown",
      "source": [
        "We can see here that the review, **\"I really did not like the bed and the room was too stuffy\"** had a compound score of -0.3343, which shows us that the statement was very negative."
      ],
      "metadata": {
        "id": "QMDwe9JicsMQ"
      }
    },
    {
      "cell_type": "markdown",
      "source": [
        "Of course, a neutral sentiment can also be achieved, if we just say something like this:"
      ],
      "metadata": {
        "id": "PnBRtCO9e5St"
      }
    },
    {
      "cell_type": "code",
      "source": [
        "neutral = \"I rode on the train\"\n",
        "sentimentAnalyzer.polarity_scores(neutral)"
      ],
      "metadata": {
        "colab": {
          "base_uri": "https://localhost:8080/"
        },
        "id": "JvgFPXmxe-NY",
        "outputId": "e43fcfab-05ee-4069-ce9e-4ebf5d5ba411"
      },
      "execution_count": null,
      "outputs": [
        {
          "output_type": "execute_result",
          "data": {
            "text/plain": [
              "{'neg': 0.0, 'neu': 1.0, 'pos': 0.0, 'compound': 0.0}"
            ]
          },
          "metadata": {},
          "execution_count": 20
        }
      ]
    },
    {
      "cell_type": "markdown",
      "source": [
        "Here we can see that the overall compound was 0.0, with a nautral value of 1.0. Meaning that the statement was neither positive nor negative."
      ],
      "metadata": {
        "id": "vCNW51v_f4IN"
      }
    },
    {
      "cell_type": "markdown",
      "source": [
        "# Part 3 - Analyze a real dataset\n",
        "In order to analyze datasets in the csv/tsv format, we will be needing **pandas** as well as **numpy**, so let's go ahead and import them and then import one of our datasets.\n",
        "\n",
        "This Restaurant Reviews dataset has a column called **\"Liked\"**, which has a value of 0 or 1, 1 being they liked it and 0 being they did not. The first column contains the actual review itself. \n",
        "\n"
      ],
      "metadata": {
        "id": "o7GMRCMAkrY5"
      }
    },
    {
      "cell_type": "markdown",
      "source": [
        "The dataset can be downloaded from https://www.kaggle.com/datasets/d4rklucif3r/restaurant-reviews"
      ],
      "metadata": {
        "id": "dpIkitooOg8Z"
      }
    },
    {
      "cell_type": "markdown",
      "source": [
        "So first, we will grab the total value counts for the Liked category."
      ],
      "metadata": {
        "id": "t1v-0Te2_ZSQ"
      }
    },
    {
      "cell_type": "code",
      "source": [
        "import numpy as np\n",
        "import pandas as pd\n",
        "\n",
        "!mkdir datasets\n",
        "!cp -r -r /content/drive/MyDrive/MachineLearning/Restaurant_Reviews.tsv /content/datasets/\n",
        "\n",
        "df = pd.read_csv('/content/datasets/Restaurant_Reviews.tsv', sep = '\\t')\n",
        "df['Liked'].value_counts()"
      ],
      "metadata": {
        "colab": {
          "base_uri": "https://localhost:8080/"
        },
        "id": "jokh79eZlv2X",
        "outputId": "0dbb291a-e22c-4a87-f9f5-12d14276da3b"
      },
      "execution_count": null,
      "outputs": [
        {
          "output_type": "execute_result",
          "data": {
            "text/plain": [
              "1    500\n",
              "0    500\n",
              "Name: Liked, dtype: int64"
            ]
          },
          "metadata": {},
          "execution_count": 1
        }
      ]
    },
    {
      "cell_type": "markdown",
      "source": [
        "And we can see that the dataset contains 500 positive and 500 negative reviews"
      ],
      "metadata": {
        "id": "xh013KKMf6Yt"
      }
    },
    {
      "cell_type": "markdown",
      "source": [
        "Now, we can parse through the dataset and create a new section for the score generated by our sentiment analyser.\n",
        "\n",
        "Let's also make a section to just see the composit scores."
      ],
      "metadata": {
        "id": "qJqlKgZQlc8E"
      }
    },
    {
      "cell_type": "code",
      "source": [
        "df['Sentiment scores'] = df['Review'].apply(lambda Review: sentimentAnalyzer.polarity_scores(Review))\n",
        "df.head(1000)\n",
        "df['Compound scores'] = df['Sentiment scores'].apply(lambda score_dict: score_dict['compound'])\n",
        "df.head(1000)"
      ],
      "metadata": {
        "colab": {
          "base_uri": "https://localhost:8080/",
          "height": 329
        },
        "id": "ghel_zN2Amh7",
        "outputId": "b4ffa22a-d59f-4948-b31b-3836c008c5c2"
      },
      "execution_count": null,
      "outputs": [
        {
          "output_type": "execute_result",
          "data": {
            "text/plain": [
              "                                                Review  Liked  \\\n",
              "0                             Wow... Loved this place.      1   \n",
              "1                                   Crust is not good.      0   \n",
              "2            Not tasty and the texture was just nasty.      0   \n",
              "3    Stopped by during the late May bank holiday of...      1   \n",
              "4    The selection on the menu was great and so wer...      1   \n",
              "..                                                 ...    ...   \n",
              "995  I think food should have flavor and texture an...      0   \n",
              "996                           Appetite instantly gone.      0   \n",
              "997  Overall I was not impressed and would not go b...      0   \n",
              "998  The whole experience was underwhelming, and I ...      0   \n",
              "999  Then, as if I hadn't wasted enough of my life ...      0   \n",
              "\n",
              "                                      Sentiment scores  Compound scores  \n",
              "0    {'neg': 0.0, 'neu': 0.435, 'pos': 0.565, 'comp...           0.5994  \n",
              "1    {'neg': 0.445, 'neu': 0.555, 'pos': 0.0, 'comp...          -0.3412  \n",
              "2    {'neg': 0.34, 'neu': 0.66, 'pos': 0.0, 'compou...          -0.5574  \n",
              "3    {'neg': 0.093, 'neu': 0.585, 'pos': 0.322, 'co...           0.6908  \n",
              "4    {'neg': 0.0, 'neu': 0.728, 'pos': 0.272, 'comp...           0.6249  \n",
              "..                                                 ...              ...  \n",
              "995  {'neg': 0.0, 'neu': 1.0, 'pos': 0.0, 'compound...           0.0000  \n",
              "996  {'neg': 0.0, 'neu': 1.0, 'pos': 0.0, 'compound...           0.0000  \n",
              "997  {'neg': 0.242, 'neu': 0.758, 'pos': 0.0, 'comp...          -0.3724  \n",
              "998  {'neg': 0.0, 'neu': 1.0, 'pos': 0.0, 'compound...           0.0000  \n",
              "999  {'neg': 0.0, 'neu': 0.908, 'pos': 0.092, 'comp...           0.3875  \n",
              "\n",
              "[1000 rows x 4 columns]"
            ],
            "text/html": [
              "\n",
              "  <div id=\"df-e04c813e-b026-49c9-a044-491b35226033\">\n",
              "    <div class=\"colab-df-container\">\n",
              "      <div>\n",
              "<style scoped>\n",
              "    .dataframe tbody tr th:only-of-type {\n",
              "        vertical-align: middle;\n",
              "    }\n",
              "\n",
              "    .dataframe tbody tr th {\n",
              "        vertical-align: top;\n",
              "    }\n",
              "\n",
              "    .dataframe thead th {\n",
              "        text-align: right;\n",
              "    }\n",
              "</style>\n",
              "<table border=\"1\" class=\"dataframe\">\n",
              "  <thead>\n",
              "    <tr style=\"text-align: right;\">\n",
              "      <th></th>\n",
              "      <th>Review</th>\n",
              "      <th>Liked</th>\n",
              "      <th>Sentiment scores</th>\n",
              "      <th>Compound scores</th>\n",
              "    </tr>\n",
              "  </thead>\n",
              "  <tbody>\n",
              "    <tr>\n",
              "      <th>0</th>\n",
              "      <td>Wow... Loved this place.</td>\n",
              "      <td>1</td>\n",
              "      <td>{'neg': 0.0, 'neu': 0.435, 'pos': 0.565, 'comp...</td>\n",
              "      <td>0.5994</td>\n",
              "    </tr>\n",
              "    <tr>\n",
              "      <th>1</th>\n",
              "      <td>Crust is not good.</td>\n",
              "      <td>0</td>\n",
              "      <td>{'neg': 0.445, 'neu': 0.555, 'pos': 0.0, 'comp...</td>\n",
              "      <td>-0.3412</td>\n",
              "    </tr>\n",
              "    <tr>\n",
              "      <th>2</th>\n",
              "      <td>Not tasty and the texture was just nasty.</td>\n",
              "      <td>0</td>\n",
              "      <td>{'neg': 0.34, 'neu': 0.66, 'pos': 0.0, 'compou...</td>\n",
              "      <td>-0.5574</td>\n",
              "    </tr>\n",
              "    <tr>\n",
              "      <th>3</th>\n",
              "      <td>Stopped by during the late May bank holiday of...</td>\n",
              "      <td>1</td>\n",
              "      <td>{'neg': 0.093, 'neu': 0.585, 'pos': 0.322, 'co...</td>\n",
              "      <td>0.6908</td>\n",
              "    </tr>\n",
              "    <tr>\n",
              "      <th>4</th>\n",
              "      <td>The selection on the menu was great and so wer...</td>\n",
              "      <td>1</td>\n",
              "      <td>{'neg': 0.0, 'neu': 0.728, 'pos': 0.272, 'comp...</td>\n",
              "      <td>0.6249</td>\n",
              "    </tr>\n",
              "    <tr>\n",
              "      <th>...</th>\n",
              "      <td>...</td>\n",
              "      <td>...</td>\n",
              "      <td>...</td>\n",
              "      <td>...</td>\n",
              "    </tr>\n",
              "    <tr>\n",
              "      <th>995</th>\n",
              "      <td>I think food should have flavor and texture an...</td>\n",
              "      <td>0</td>\n",
              "      <td>{'neg': 0.0, 'neu': 1.0, 'pos': 0.0, 'compound...</td>\n",
              "      <td>0.0000</td>\n",
              "    </tr>\n",
              "    <tr>\n",
              "      <th>996</th>\n",
              "      <td>Appetite instantly gone.</td>\n",
              "      <td>0</td>\n",
              "      <td>{'neg': 0.0, 'neu': 1.0, 'pos': 0.0, 'compound...</td>\n",
              "      <td>0.0000</td>\n",
              "    </tr>\n",
              "    <tr>\n",
              "      <th>997</th>\n",
              "      <td>Overall I was not impressed and would not go b...</td>\n",
              "      <td>0</td>\n",
              "      <td>{'neg': 0.242, 'neu': 0.758, 'pos': 0.0, 'comp...</td>\n",
              "      <td>-0.3724</td>\n",
              "    </tr>\n",
              "    <tr>\n",
              "      <th>998</th>\n",
              "      <td>The whole experience was underwhelming, and I ...</td>\n",
              "      <td>0</td>\n",
              "      <td>{'neg': 0.0, 'neu': 1.0, 'pos': 0.0, 'compound...</td>\n",
              "      <td>0.0000</td>\n",
              "    </tr>\n",
              "    <tr>\n",
              "      <th>999</th>\n",
              "      <td>Then, as if I hadn't wasted enough of my life ...</td>\n",
              "      <td>0</td>\n",
              "      <td>{'neg': 0.0, 'neu': 0.908, 'pos': 0.092, 'comp...</td>\n",
              "      <td>0.3875</td>\n",
              "    </tr>\n",
              "  </tbody>\n",
              "</table>\n",
              "<p>1000 rows × 4 columns</p>\n",
              "</div>\n",
              "      <button class=\"colab-df-convert\" onclick=\"convertToInteractive('df-e04c813e-b026-49c9-a044-491b35226033')\"\n",
              "              title=\"Convert this dataframe to an interactive table.\"\n",
              "              style=\"display:none;\">\n",
              "        \n",
              "  <svg xmlns=\"http://www.w3.org/2000/svg\" height=\"24px\"viewBox=\"0 0 24 24\"\n",
              "       width=\"24px\">\n",
              "    <path d=\"M0 0h24v24H0V0z\" fill=\"none\"/>\n",
              "    <path d=\"M18.56 5.44l.94 2.06.94-2.06 2.06-.94-2.06-.94-.94-2.06-.94 2.06-2.06.94zm-11 1L8.5 8.5l.94-2.06 2.06-.94-2.06-.94L8.5 2.5l-.94 2.06-2.06.94zm10 10l.94 2.06.94-2.06 2.06-.94-2.06-.94-.94-2.06-.94 2.06-2.06.94z\"/><path d=\"M17.41 7.96l-1.37-1.37c-.4-.4-.92-.59-1.43-.59-.52 0-1.04.2-1.43.59L10.3 9.45l-7.72 7.72c-.78.78-.78 2.05 0 2.83L4 21.41c.39.39.9.59 1.41.59.51 0 1.02-.2 1.41-.59l7.78-7.78 2.81-2.81c.8-.78.8-2.07 0-2.86zM5.41 20L4 18.59l7.72-7.72 1.47 1.35L5.41 20z\"/>\n",
              "  </svg>\n",
              "      </button>\n",
              "      \n",
              "  <style>\n",
              "    .colab-df-container {\n",
              "      display:flex;\n",
              "      flex-wrap:wrap;\n",
              "      gap: 12px;\n",
              "    }\n",
              "\n",
              "    .colab-df-convert {\n",
              "      background-color: #E8F0FE;\n",
              "      border: none;\n",
              "      border-radius: 50%;\n",
              "      cursor: pointer;\n",
              "      display: none;\n",
              "      fill: #1967D2;\n",
              "      height: 32px;\n",
              "      padding: 0 0 0 0;\n",
              "      width: 32px;\n",
              "    }\n",
              "\n",
              "    .colab-df-convert:hover {\n",
              "      background-color: #E2EBFA;\n",
              "      box-shadow: 0px 1px 2px rgba(60, 64, 67, 0.3), 0px 1px 3px 1px rgba(60, 64, 67, 0.15);\n",
              "      fill: #174EA6;\n",
              "    }\n",
              "\n",
              "    [theme=dark] .colab-df-convert {\n",
              "      background-color: #3B4455;\n",
              "      fill: #D2E3FC;\n",
              "    }\n",
              "\n",
              "    [theme=dark] .colab-df-convert:hover {\n",
              "      background-color: #434B5C;\n",
              "      box-shadow: 0px 1px 3px 1px rgba(0, 0, 0, 0.15);\n",
              "      filter: drop-shadow(0px 1px 2px rgba(0, 0, 0, 0.3));\n",
              "      fill: #FFFFFF;\n",
              "    }\n",
              "  </style>\n",
              "\n",
              "      <script>\n",
              "        const buttonEl =\n",
              "          document.querySelector('#df-e04c813e-b026-49c9-a044-491b35226033 button.colab-df-convert');\n",
              "        buttonEl.style.display =\n",
              "          google.colab.kernel.accessAllowed ? 'block' : 'none';\n",
              "\n",
              "        async function convertToInteractive(key) {\n",
              "          const element = document.querySelector('#df-e04c813e-b026-49c9-a044-491b35226033');\n",
              "          const dataTable =\n",
              "            await google.colab.kernel.invokeFunction('convertToInteractive',\n",
              "                                                     [key], {});\n",
              "          if (!dataTable) return;\n",
              "\n",
              "          const docLinkHtml = 'Like what you see? Visit the ' +\n",
              "            '<a target=\"_blank\" href=https://colab.research.google.com/notebooks/data_table.ipynb>data table notebook</a>'\n",
              "            + ' to learn more about interactive tables.';\n",
              "          element.innerHTML = '';\n",
              "          dataTable['output_type'] = 'display_data';\n",
              "          await google.colab.output.renderOutput(dataTable, element);\n",
              "          const docLink = document.createElement('div');\n",
              "          docLink.innerHTML = docLinkHtml;\n",
              "          element.appendChild(docLink);\n",
              "        }\n",
              "      </script>\n",
              "    </div>\n",
              "  </div>\n",
              "  "
            ]
          },
          "metadata": {},
          "execution_count": 22
        }
      ]
    },
    {
      "cell_type": "markdown",
      "source": [
        "# Step 4 - Clean up the dataset data\n",
        "\n",
        "Next, we will need the stop words from nltk in order to clean up the date for training use.\n",
        "\n",
        "The stop words are words that are commonly used words that are often ignored by search engines and other algorithms. Stop words often have no meaning to them and in order to clean up the date, we will be removing them except for 'not'."
      ],
      "metadata": {
        "id": "FrPxctY8eNzW"
      }
    },
    {
      "cell_type": "markdown",
      "source": [
        "We can obtain the stop words from nltk as such:"
      ],
      "metadata": {
        "id": "YrFWNfPyfYPh"
      }
    },
    {
      "cell_type": "code",
      "source": [
        "nltk.download('stopwords')\n",
        "\n",
        "from nltk.corpus import stopwords\n",
        "from nltk.stem.porter import PorterStemmer\n",
        "ps = PorterStemmer()\n",
        "\n",
        "all_stopwords = stopwords.words('english')\n",
        "all_stopwords.remove('not')"
      ],
      "metadata": {
        "colab": {
          "base_uri": "https://localhost:8080/"
        },
        "id": "T9z-Qw8jtdaB",
        "outputId": "9a07d8b7-7eca-45ac-fdbd-1579659ab002"
      },
      "execution_count": null,
      "outputs": [
        {
          "output_type": "stream",
          "name": "stderr",
          "text": [
            "[nltk_data] Downloading package stopwords to /root/nltk_data...\n",
            "[nltk_data]   Unzipping corpora/stopwords.zip.\n"
          ]
        }
      ]
    },
    {
      "cell_type": "markdown",
      "source": [
        "Now we will create a new dataset table with the cleaned data, by appending reviews to the new dataset cleaned to remove stop words and standardize all case. Since there are 1000 items in the original dataset, we will iterate 1000 times."
      ],
      "metadata": {
        "id": "9Fp_hywNioD3"
      }
    },
    {
      "cell_type": "code",
      "source": [
        "import re\n",
        "consolidate=[]\n",
        "\n",
        "for i in range(0, 1000):\n",
        "  review = re.sub('[^a-zA-Z]', ' ', df['Review'][i])\n",
        "  review = review.lower()\n",
        "  review = review.split()\n",
        "  review = [ps.stem(word) for word in review if not word in set(all_stopwords)]\n",
        "  review = ' '.join(review)\n",
        "  consolidate.append(review)"
      ],
      "metadata": {
        "id": "3qGnvQEDtkZT"
      },
      "execution_count": null,
      "outputs": []
    },
    {
      "cell_type": "markdown",
      "source": [
        "The trimmed and cleaned data will look like this:"
      ],
      "metadata": {
        "id": "DgU3G-9bgS0d"
      }
    },
    {
      "cell_type": "code",
      "source": [
        "print(consolidate)"
      ],
      "metadata": {
        "colab": {
          "base_uri": "https://localhost:8080/"
        },
        "id": "5Wf6tI9ngPwn",
        "outputId": "a87d38d9-b30d-4913-d97b-a7bc5a9eed44"
      },
      "execution_count": null,
      "outputs": [
        {
          "output_type": "stream",
          "name": "stdout",
          "text": [
            "['wow love place', 'crust not good', 'not tasti textur nasti', 'stop late may bank holiday rick steve recommend love', 'select menu great price', 'get angri want damn pho', 'honeslti tast fresh', 'potato like rubber could tell made ahead time kept warmer', 'fri great', 'great touch', 'servic prompt', 'would not go back', 'cashier care ever say still end wayyy overpr', 'tri cape cod ravoli chicken cranberri mmmm', 'disgust pretti sure human hair', 'shock sign indic cash', 'highli recommend', 'waitress littl slow servic', 'place not worth time let alon vega', 'not like', 'burritto blah', 'food amaz', 'servic also cute', 'could care less interior beauti', 'perform', 'right red velvet cake ohhh stuff good', 'never brought salad ask', 'hole wall great mexican street taco friendli staff', 'took hour get food tabl restaur food luke warm sever run around like total overwhelm', 'worst salmon sashimi', 'also combo like burger fri beer decent deal', 'like final blow', 'found place accid could not happier', 'seem like good quick place grab bite familiar pub food favor look elsewher', 'overal like place lot', 'redeem qualiti restaur inexpens', 'ampl portion good price', 'poor servic waiter made feel like stupid everi time came tabl', 'first visit hiro delight', 'servic suck', 'shrimp tender moist', 'not deal good enough would drag establish', 'hard judg whether side good gross melt styrofoam want eat fear get sick', 'posit note server attent provid great servic', 'frozen puck disgust worst peopl behind regist', 'thing like prime rib dessert section', 'bad food damn gener', 'burger good beef cook right', 'want sandwich go firehous', 'side greek salad greek dress tasti pita hummu refresh', 'order duck rare pink tender insid nice char outsid', 'came run us realiz husband left sunglass tabl', 'chow mein good', 'horribl attitud toward custom talk one custom enjoy food', 'portion huge', 'love friendli server great food wonder imagin menu', 'heart attack grill downtown vega absolut flat line excus restaur', 'not much seafood like string pasta bottom', 'salad right amount sauc not power scallop perfectli cook', 'rip banana not rip petrifi tasteless', 'least think refil water struggl wave minut', 'place receiv star appet', 'cocktail handmad delici', 'definit go back', 'glad found place', 'great food servic huge portion give militari discount', 'alway great time do gringo', 'updat went back second time still amaz', 'got food appar never heard salt batter fish chewi', 'great way finish great', 'deal includ tast drink jeff went beyond expect', 'realli realli good rice time', 'servic meh', 'took min get milkshak noth chocol milk', 'guess known place would suck insid excalibur use common sens', 'scallop dish quit appal valu well', 'time bad custom servic', 'sweet potato fri good season well', 'today second time lunch buffet pretti good', 'much good food vega feel cheat wast eat opportun go rice compani', 'come like experienc underwhelm relationship parti wait person ask break', 'walk place smell like old greas trap other eat', 'turkey roast beef bland', 'place', 'pan cake everyon rave tast like sugari disast tailor palat six year old', 'love pho spring roll oh yummi tri', 'poor batter meat ratio made chicken tender unsatisfi', 'say food amaz', 'omelet die', 'everyth fresh delici', 'summari larg disappoint dine experi', 'like realli sexi parti mouth outrag flirt hottest person parti', 'never hard rock casino never ever step forward', 'best breakfast buffet', 'say bye bye tip ladi', 'never go', 'back', 'food arriv quickli', 'not good', 'side cafe serv realli good food', 'server fantast found wife love roast garlic bone marrow ad extra meal anoth marrow go', 'good thing waiter help kept bloddi mari come', 'best buffet town price cannot beat', 'love mussel cook wine reduct duck tender potato dish delici', 'one better buffet', 'went tigerlilli fantast afternoon', 'food delici bartend attent person got great deal', 'ambienc wonder music play', 'go back next trip', 'sooooo good', 'real sushi lover let honest yama not good', 'least min pass us order food arriv busi', 'realli fantast thai restaur definit worth visit', 'nice spici tender', 'good price', 'check', 'pretti gross', 'better atmospher', 'kind hard mess steak', 'although much like look sound place actual experi bit disappoint', 'know place manag serv blandest food ever eaten prepar indian cuisin', 'worst servic boot least worri', 'servic fine waitress friendli', 'guy steak steak love son steak best worst place said best steak ever eaten', 'thought ventur away get good sushi place realli hit spot night', 'host staff lack better word bitch', 'bland not like place number reason want wast time bad review leav', 'phenomen food servic ambianc', 'return', 'definit worth ventur strip pork belli return next time vega', 'place way overpr mediocr food', 'penn vodka excel', 'good select food includ massiv meatloaf sandwich crispi chicken wrap delish tuna melt tasti burger', 'manag rude', 'delici nyc bagel good select cream chees real lox caper even', 'great subway fact good come everi subway not meet expect', 'serious solid breakfast', 'one best bar food vega', 'extrem rude realli mani restaur would love dine weekend vega', 'drink never empti made realli great menu suggest', '', 'waiter help friendli rare check us', 'husband ate lunch disappoint food servic', 'red curri much bamboo shoot tasti', 'nice blanket moz top feel like done cover subpar food', 'bathroom clean place well decor', 'menu alway chang food qualiti go servic extrem slow', 'servic littl slow consid serv peopl server food come slow pace', 'give thumb', 'watch waiter pay lot attent tabl ignor us', 'fianc came middl day greet seat right away', 'great restaur mandalay bay', 'wait forti five minut vain', 'crostini came salad stale', 'highlight great qualiti nigiri', 'staff friendli joint alway clean', 'differ cut piec day still wonder tender well well flavor', 'order voodoo pasta first time realli excel pasta sinc go gluten free sever year ago', 'place good', 'unfortun must hit bakeri leftov day everyth order stale', 'came back today sinc reloc still not impress', 'seat immedi', 'menu divers reason price', 'avoid cost', 'restaur alway full never wait', 'delici', 'place hand one best place eat phoenix metro area', 'go look good food', 'never treat bad', 'bacon hella salti', 'also order spinach avocado salad ingredi sad dress liter zero tast', 'realli vega fine dine use right menu hand ladi price list', 'waitress friendli', 'lordi khao soi dish not miss curri lover', 'everyth menu terrif also thrill made amaz accommod vegetarian daughter', 'perhap caught night judg review not inspir go back', 'servic leav lot desir', 'atmospher modern hip maintain touch cozi', 'not weekli haunt definit place come back everi', 'liter sat minut one ask take order', 'burger absolut flavor meat total bland burger overcook charcoal flavor', 'also decid not send back waitress look like verg heart attack', 'dress treat rude', 'probabl dirt', 'love place hit spot want someth healthi not lack quantiti flavor', 'order lemon raspberri ice cocktail also incred', 'food suck expect suck could imagin', 'interest decor', 'realli like crepe station', 'also serv hot bread butter home made potato chip bacon bit top origin good', 'watch prepar delici food', 'egg roll fantast', 'order arriv one gyro miss', 'salad wing ice cream dessert left feel quit satisfi', 'not realli sure joey vote best hot dog valley reader phoenix magazin', 'best place go tasti bowl pho', 'live music friday total blow', 'never insult felt disrespect', 'friendli staff', 'worth drive', 'heard good thing place exceed everi hope could dream', 'food great serivc', 'warm beer help', 'great brunch spot', 'servic friendli invit', 'good lunch spot', 'live sinc first last time step foot place', 'worst experi ever', 'must night place', 'side delish mix mushroom yukon gold pure white corn beateou', 'bug never show would given sure side wall bug climb kitchen', 'minut wait salad realiz come time soon', 'friend love salmon tartar', 'go back', 'extrem tasti', 'waitress good though', 'soggi not good', 'jamaican mojito delici', 'small not worth price', 'food rich order accordingli', 'shower area outsid rins not take full shower unless mind nude everyon see', 'servic bit lack', 'lobster bisqu bussel sprout risotto filet need salt pepper cours none tabl', 'hope bode go busi someon cook come', 'either cold not enough flavor bad', 'love bacon wrap date', 'unbeliev bargain', 'folk otto alway make us feel welcom special', 'main also uninspir', 'place first pho amaz', 'wonder experi made place must stop whenev town', 'food bad enough enjoy deal world worst annoy drunk peopl', 'fun chef', 'order doubl cheeseburg got singl patti fall apart pictur upload yeah still suck', 'great place coupl drink watch sport event wall cover tv', 'possibl give zero star', 'descript said yum yum sauc anoth said eel sauc yet anoth said spici mayo well none roll sauc', 'say would hardest decis honestli dish tast suppos tast amaz', 'not roll eye may stay not sure go back tri', 'everyon attent provid excel custom servic', 'horribl wast time money', 'dish quit flavour', 'time side restaur almost empti excus', 'busi either also build freez cold', 'like review said pay eat place', 'drink took close minut come one point', 'serious flavor delight folk', 'much better ayc sushi place went vega', 'light dark enough set mood', 'base sub par servic receiv effort show gratitud busi go back', 'owner realli great peopl', 'noth privileg work eat', 'greek dress creami flavor', 'overal think would take parent place made similar complaint silent felt', 'pizza good peanut sauc tasti', 'tabl servic pretti fast', 'fantast servic', 'well would given godfath zero star possibl', 'know make', 'tough short flavor', 'hope place stick around', 'bar vega not ever recal charg tap water', 'restaur atmospher exquisit', 'good servic clean inexpens boot', 'seafood fresh gener portion', 'plu buck', 'servic not par either', 'thu far visit twice food absolut delici time', 'good year ago', 'self proclaim coffe cafe wildli disappoint', 'veggitarian platter world', 'cant go wrong food', 'beat', 'stop place madison ironman friendli kind staff', 'chef friendli good job', 'better not dedic boba tea spot even jenni pho', 'like patio servic outstand', 'goat taco skimp meat wow flavor', 'think not', 'mac salad pretti bland not get', 'went bachi burger friend recommend not disappoint', 'servic stink', 'wait wait', 'place not qualiti sushi not qualiti restaur', 'would definit recommend wing well pizza', 'great pizza salad', 'thing went wrong burn saganaki', 'wait hour breakfast could done time better home', 'place amaz', 'hate disagre fellow yelper husband disappoint place', 'wait hour never got either pizza mani around us came later', 'know slow', 'staff great food delish incred beer select', 'live neighborhood disappoint back conveni locat', 'know pull pork could soooo delici', 'get incred fresh fish prepar care', 'go gave star rate pleas know third time eat bachi burger write review', 'love fact everyth menu worth', 'never dine place', 'food excel servic good', 'good beer drink select good food select', 'pleas stay away shrimp stir fri noodl', 'potato chip order sad could probabl count mani chip box probabl around', 'food realli bore', 'good servic check', 'greedi corpor never see anoth dime', 'never ever go back', 'much like go back get pass atroci servic never return', 'summer dine charm outdoor patio delight', 'not expect good', 'fantast food', 'order toast english muffin came untoast', 'food good', 'never go back', 'great food price high qualiti hous made', 'bu boy hand rude', 'point friend basic figur place joke mind make publicli loudli known', 'back good bbq lighter fare reason price tell public back old way', 'consid two us left full happi go wrong', 'bread made hous', 'downsid servic', 'also fri without doubt worst fri ever', 'servic except food good review', 'coupl month later return amaz meal', 'favorit place town shawarrrrrrma', 'black eye pea sweet potato unreal', 'disappoint', 'could serv vinaigrett may make better overal dish still good', 'go far mani place never seen restaur serv egg breakfast especi', 'mom got home immedi got sick bite salad', 'server not pleasant deal alway honor pizza hut coupon', 'truli unbeliev good glad went back', 'fantast servic pleas atmospher', 'everyth gross', 'love place', 'great servic food', 'first bathroom locat dirti seat cover not replenish plain yucki', 'burger got gold standard burger kind disappoint', 'omg food delicioso', 'noth authent place', 'spaghetti noth special whatsoev', 'dish salmon best great', 'veget fresh sauc feel like authent thai', 'worth drive tucson', 'select probabl worst seen vega none', 'pretti good beer select', 'place like chipotl better', 'classi warm atmospher fun fresh appet succul steak basebal steak', 'star brick oven bread app', 'eaten multipl time time food delici', 'sat anoth ten minut final gave left', 'terribl', 'everyon treat equal special', 'take min pancak egg', 'delici', 'good side staff genuin pleasant enthusiast real treat', 'sadli gordon ramsey steak place shall sharpli avoid next trip vega', 'alway even wonder food delici', 'best fish ever life', 'bathroom next door nice', 'buffet small food offer bland', 'outstand littl restaur best food ever tast', 'pretti cool would say', 'definit turn doubt back unless someon els buy', 'server great job handl larg rowdi tabl', 'find wast food despic food', 'wife lobster bisqu soup lukewarm', 'would come back sushi crave vega', 'staff great ambianc great', 'deserv star', 'left stomach ach felt sick rest day', 'drop ball', 'dine space tini elegantli decor comfort', 'custom order way like usual eggplant green bean stir fri love', 'bean rice mediocr best', 'best taco town far', 'took back money got outta', 'interest part town place amaz', 'rude inconsider manag', 'staff not friendli wait time serv horribl one even say hi first minut', 'back', 'great dinner', 'servic outshin definit recommend halibut', 'food terribl', 'never ever go back told mani peopl happen', 'recommend unless car break front starv', 'come back everi time vega', 'place deserv one star food', 'disgrac', 'def come back bowl next time', 'want healthi authent ethic food tri place', 'continu come ladi night andddd date night highli recommend place anyon area', 'sever time past experi alway great', 'walk away stuf happi first vega buffet experi', 'servic excel price pretti reason consid vega locat insid crystal shop mall aria', 'summar food incred nay transcend noth bring joy quit like memori pneumat condiment dispens', 'probabl one peopl ever go ian not like', 'kid pizza alway hit lot great side dish option kiddo', 'servic perfect famili atmospher nice see', 'cook perfect servic impecc', 'one simpli disappoint', 'overal disappoint qualiti food bouchon', 'account know get screw', 'great place eat remind littl mom pop shop san francisco bay area', 'today first tast buldogi gourmet hot dog tell ever thought possibl', 'left frustrat', 'definit soon', 'food realli good got full petti fast', 'servic fantast', 'total wast time', 'know kind best ice tea', 'come hungri leav happi stuf', 'servic give star', 'assur disappoint', 'take littl bad servic food suck', 'gave tri eat crust teeth still sore', 'complet gross', 'realli enjoy eat', 'first time go think quickli becom regular', 'server nice even though look littl overwhelm need stay profession friendli end', 'dinner companion told everyth fresh nice textur tast', 'ground right next tabl larg smear step track everywher pile green bird poop', 'furthermor even find hour oper websit', 'tri like place time think done', 'mistak', 'complaint', 'serious good pizza expert connisseur topic', 'waiter jerk', 'strike want rush', 'nicest restaur owner ever come across', 'never come', 'love biscuit', 'servic quick friendli', 'order appet took minut pizza anoth minut', 'absolutley fantast', 'huge awkward lb piec cow th gristl fat', 'definit come back', 'like steiner dark feel like bar', 'wow spici delici', 'not familiar check', 'take busi dinner dollar elsewher', 'love go back', 'anyway fs restaur wonder breakfast lunch', 'noth special', 'day week differ deal delici', 'not mention combin pear almond bacon big winner', 'not back', 'sauc tasteless', 'food delici spici enough sure ask spicier prefer way', 'ribey steak cook perfectli great mesquit flavor', 'think go back anytim soon', 'food gooodd', 'far sushi connoisseur definit tell differ good food bad food certainli bad food', 'insult', 'last time lunch bad', 'chicken wing contain driest chicken meat ever eaten', 'food good enjoy everi mouth enjoy relax venu coupl small famili group etc', 'nargil think great', 'best tater tot southwest', 'love place', 'definit not worth paid', 'vanilla ice cream creami smooth profiterol choux pastri fresh enough', 'im az time new spot', 'manag worst', 'insid realli quit nice clean', 'food outstand price reason', 'think run back carli anytim soon food', 'due fact took minut acknowledg anoth minut get food kept forget thing', 'love margarita', 'first vega buffet not disappoint', 'good though', 'one note ventil could use upgrad', 'great pork sandwich', 'wast time', 'total letdown would much rather go camelback flower shop cartel coffe', 'third chees friend burger cold', 'enjoy pizza brunch', 'steak well trim also perfectli cook', 'group claim would handl us beauti', 'love', 'ask bill leav without eat bring either', 'place jewel la vega exactli hope find nearli ten year live', 'seafood limit boil shrimp crab leg crab leg definit not tast fresh', 'select food not best', 'delici absolut back', 'small famili restaur fine dine establish', 'toro tartar cavier extraordinari like thinli slice wagyu white truffl', 'dont think back long time', 'attach ga station rare good sign', 'awesom', 'back mani time soon', 'menu much good stuff could not decid', 'wors humili worker right front bunch horribl name call', 'conclus fill meal', 'daili special alway hit group', 'tragedi struck', 'pancak also realli good pretti larg', 'first crawfish experi delici', 'monster chicken fri steak egg time favorit', 'waitress sweet funni', 'also tast mom multi grain pumpkin pancak pecan butter amaz fluffi delici', 'rather eat airlin food serious', 'cant say enough good thing place', 'ambianc incred', 'waitress manag friendli', 'would not recommend place', 'overal impress noca', 'gyro basic lettuc', 'terribl servic', 'thoroughli disappoint', 'much pasta love homemad hand made pasta thin pizza', 'give tri happi', 'far best cheesecurd ever', 'reason price also', 'everyth perfect night', 'food good typic bar food', 'drive get', 'first glanc love bakeri cafe nice ambianc clean friendli staff', 'anyway not think go back', 'point finger item menu order disappoint', 'oh thing beauti restaur', 'gone go', 'greasi unhealthi meal', 'first time might last', 'burger amaz', 'similarli deliveri man not say word apolog food minut late', 'way expens', 'sure order dessert even need pack go tiramisu cannoli die', 'first time wait next', 'bartend also nice', 'everyth good tasti', 'place two thumb way', 'best place vega breakfast check sat sun', 'love authent mexican food want whole bunch interest yet delici meat choos need tri place', 'terribl manag', 'excel new restaur experienc frenchman', 'zero star would give zero star', 'great steak great side great wine amaz dessert', 'worst martini ever', 'steak shrimp opinion best entre gc', 'opportun today sampl amaz pizza', 'wait thirti minut seat although vacant tabl folk wait', 'yellowtail carpaccio melt mouth fresh', 'tri go back even empti', 'go eat potato found stranger hair', 'spici enough perfect actual', 'last night second time dine happi decid go back', 'not even hello right', 'dessert bit strang', 'boyfriend came first time recent trip vega could not pleas qualiti food servic', 'realli recommend place go wrong donut place', 'nice ambianc', 'would recommend save room', 'guess mayb went night disgrac', 'howev recent experi particular locat not good', 'know not like restaur someth', 'avoid establish', 'think restaur suffer not tri hard enough', 'tapa dish delici', 'heart place', 'salad bland vinegrett babi green heart palm', 'two felt disgust', 'good time', 'believ place great stop huge belli hanker sushi', 'gener portion great tast', 'never go back place never ever recommend place anyon', 'server went back forth sever time not even much help', 'food delici', 'hour serious', 'consid theft', 'eew locat need complet overhaul', 'recent wit poor qualiti manag toward guest well', 'wait wait wait', 'also came back check us regularli excel servic', 'server super nice check us mani time', 'pizza tast old super chewi not good way', 'swung give tri deepli disappoint', 'servic good compani better', 'staff also friendli effici', 'servic fan quick serv nice folk', 'boy sucker dri', 'rate', 'look authent thai food go els', 'steak recommend', 'pull car wait anoth minut acknowledg', 'great food great servic clean friendli set', 'assur back', 'hate thing much cheap qualiti black oliv', 'breakfast perpar great beauti present giant slice toast lightli dust powder sugar', 'kid play area nasti', 'great place fo take eat', 'waitress friendli happi accomod vegan veggi option', 'omg felt like never eaten thai food dish', 'extrem crumbi pretti tasteless', 'pale color instead nice char flavor', 'crouton also tast homemad extra plu', 'got home see driest damn wing ever', 'regular stop trip phoenix', 'realli enjoy crema caf expand even told friend best breakfast', 'not good money', 'miss wish one philadelphia', 'got sit fairli fast end wait minut place order anoth minut food arriv', 'also best chees crisp town', 'good valu great food great servic', 'ask satisfi meal', 'food good', 'awesom', 'want leav', 'made drive way north scottsdal not one bit disappoint', 'not eat', 'owner realli realli need quit soooooo cheap let wrap freak sandwich two paper not one', 'check place coupl year ago not impress', 'chicken got definit reheat ok wedg cold soggi', 'sorri not get food anytim soon', 'absolut must visit', 'cow tongu cheek taco amaz', 'friend not like bloodi mari', 'despit hard rate busi actual rare give star', 'realli want make experi good one', 'not return', 'chicken pho tast bland', 'disappoint', 'grill chicken tender yellow saffron season', 'drive thru mean not want wait around half hour food somehow end go make us wait wait', 'pretti awesom place', 'ambienc perfect', 'best luck rude non custom servic focus new manag', 'grandmoth make roast chicken better one', 'ask multipl time wine list time ignor went hostess got one', 'staff alway super friendli help especi cool bring two small boy babi', 'four star food guy blue shirt great vibe still let us eat', 'roast beef sandwich tast realli good', 'even drastic sick', 'high qualiti chicken chicken caesar salad', 'order burger rare came done', 'promptli greet seat', 'tri go lunch madhous', 'proven dead wrong sushi bar not qualiti great servic fast food impecc', 'wait hour seat not greatest mood', 'good joint', 'macaron insan good', 'not eat', 'waiter attent friendli inform', 'mayb cold would somewhat edibl', 'place lot promis fail deliv', 'bad experi', 'mistak', 'food averag best', 'great food', 'go back anytim soon', 'disappoint order big bay plater', 'great place relax awesom burger beer', 'perfect sit famili meal get togeth friend', 'not much flavor poorli construct', 'patio seat comfort', 'fri rice dri well', 'hand favorit italian restaur', 'scream legit book somethat also pretti rare vega', 'not fun experi', 'atmospher great love duo violinist play song request', 'person love hummu pita baklava falafel baba ganoush amaz eggplant', 'conveni sinc stay mgm', 'owner super friendli staff courteou', 'great', 'eclect select', 'sweet potato tot good onion ring perfect close', 'staff attent', 'chef gener time even came around twice take pictur', 'owner use work nobu place realli similar half price', 'googl mediocr imagin smashburg pop', 'dont go', 'promis disappoint', 'sushi lover avoid place mean', 'great doubl cheeseburg', 'awesom servic food', 'fantast neighborhood gem', 'wait go back', 'plantain worst ever tast', 'great place highli recommend', 'servic slow not attent', 'gave star give star', 'staff spend time talk', 'dessert panna cotta amaz', 'good food great atmospher', 'damn good steak', 'total brunch fail', 'price reason flavor spot sauc home made slaw not drench mayo', 'decor nice piano music soundtrack pleasant', 'steak amaz rge fillet relleno best seafood plate ever', 'good food good servic', 'absolut amaz', 'probabl back honest', 'definit back', 'sergeant pepper beef sandwich auju sauc excel sandwich well', 'hawaiian breez mango magic pineappl delight smoothi tri far good', 'went lunch servic slow', 'much say place walk expect amaz quickli disappoint', 'mortifi', 'needless say never back', 'anyway food definit not fill price pay expect', 'chip came drip greas mostli not edibl', 'realli impress strip steak', 'go sinc everi meal awesom', 'server nice attent serv staff', 'cashier friendli even brought food', 'work hospit industri paradis valley refrain recommend cibo longer', 'atmospher fun', 'would not recommend other', 'servic quick even go order like like', 'mean realli get famou fish chip terribl', 'said mouth belli still quit pleas', 'not thing', 'thumb', 'read pleas go', 'love grill pizza remind legit italian pizza', 'pro larg seat area nice bar area great simpl drink menu best brick oven pizza homemad dough', 'realli nice atmospher', 'tonight elk filet special suck', 'one bite hook', 'order old classic new dish go time sore disappoint everyth', 'cute quaint simpl honest', 'chicken delici season perfect fri outsid moist chicken insid', 'food great alway compliment chef', 'special thank dylan recommend order yummi tummi', 'awesom select beer', 'great food awesom servic', 'one nice thing ad gratuiti bill sinc parti larger expect tip', 'fli appl juic fli', 'han nan chicken also tasti', 'servic thought good', 'food bare lukewarm must sit wait server bring us', 'ryan bar definit one edinburgh establish revisit', 'nicest chines restaur', 'overal like food servic', 'also serv indian naan bread hummu spici pine nut sauc world', 'probabl never come back recommend', 'friend pasta also bad bare touch', 'tri airport experi tasti food speedi friendli servic', 'love decor chines calligraphi wall paper', 'never anyth complain', 'restaur clean famili restaur feel', 'way fri', 'not sure long stood long enough begin feel awkwardli place', 'open sandwich impress not good way', 'not back', 'warm feel servic felt like guest special treat', 'extens menu provid lot option breakfast', 'alway order vegetarian menu dinner wide array option choos', 'watch price inflat portion get smaller manag attitud grow rapidli', 'wonder lil tapa ambienc made feel warm fuzzi insid', 'got enjoy seafood salad fabul vinegrett', 'wonton thin not thick chewi almost melt mouth', 'level spici perfect spice whelm soup', 'sat right time server get go fantast', 'main thing enjoy crowd older crowd around mid', 'side town definit spot hit', 'wait minut get drink longer get arepa', 'great place eat', 'jalapeno bacon soooo good', 'servic poor that nice', 'food good servic good price good', 'place not clean food oh stale', 'chicken dish ok beef like shoe leather', 'servic beyond bad', 'happi', 'tast like dirt', 'one place phoenix would defin go back', 'block amaz', 'close hous low key non fanci afford price good food', 'hot sour egg flower soup absolut star', 'sashimi poor qualiti soggi tasteless', 'great time famili dinner sunday night', 'food not tasti not say real tradit hunan style', 'bother slow servic', 'flair bartend absolut amaz', 'frozen margarita way sugari tast', 'good order twice', 'nutshel restaraunt smell like combin dirti fish market sewer', 'girlfriend veal bad', 'unfortun not good', 'pretti satifi experi', 'join club get awesom offer via email', 'perfect someon like beer ice cold case even colder', 'bland flavorless good way describ bare tepid meat', 'chain fan beat place easili', 'nacho must', 'not come back', 'mani word say place everyth pretti well', 'staff super nice quick even crazi crowd downtown juri lawyer court staff', 'great atmospher friendli fast servic', 'receiv pita huge lot meat thumb', 'food arriv meh', 'pay hot dog fri look like came kid meal wienerschnitzel not idea good meal', 'classic main lobster roll fantast', 'brother law work mall ate day guess sick night', 'good go review place twice herea tribut place tribut event held last night', 'chip salsa realli good salsa fresh', 'place great', 'mediocr food', 'get insid impress place', 'super pissd', 'servic super friendli', 'sad littl veget overcook', 'place nice surpris', 'golden crispi delici', 'high hope place sinc burger cook charcoal grill unfortun tast fell flat way flat', 'could eat bruschetta day devin', 'not singl employe came see ok even need water refil final serv us food', 'lastli mozzarella stick best thing order', 'first time ever came amaz experi still tell peopl awesom duck', 'server neglig need made us feel unwelcom would not suggest place', 'servic terribl though', 'place overpr not consist boba realli overpr', 'pack', 'love place', 'say dessert yummi', 'food terribl', 'season fruit fresh white peach pure', 'kept get wors wors offici done', 'place honestli blown', 'definit would not eat', 'not wast money', 'love put food nice plastic contain oppos cram littl paper takeout box', 'cr pe delic thin moist', 'aw servic', 'ever go', 'food qualiti horribl', 'price think place would much rather gone', 'servic fair best', 'love sushi found kabuki price hip servic', 'favor stay away dish', 'poor servic', 'one tabl thought food averag worth wait', 'best servic food ever maria server good friendli made day', 'excel', 'paid bill not tip felt server terribl job', 'lunch great experi', 'never bland food surpris consid articl read focus much spice flavor', 'food way overpr portion fuck small', 'recent tri caballero back everi week sinc', 'buck head realli expect better food', 'food came good pace', 'ate twice last visit especi enjoy salmon salad', 'back', 'could not believ dirti oyster', 'place deserv star', 'would not recommend place', 'fact go round star awesom', 'disbelief dish qualifi worst version food ever tast', 'bad day not low toler rude custom servic peopl job nice polit wash dish otherwis', 'potato great biscuit', 'probabl would not go', 'flavor perfect amount heat', 'price reason servic great', 'wife hate meal coconut shrimp friend realli not enjoy meal either', 'fella got huevo ranchero look appeal', 'went happi hour great list wine', 'may say buffet pricey think get pay place get quit lot', 'probabl come back', 'worst food servic', 'place pretti good nice littl vibe restaur', 'talk great custom servic cours back', 'hot dish not hot cold dish close room temp watch staff prepar food bare hand glove everyth deep fri oil', 'love fri bean', 'alway pleasur deal', 'plethora salad sandwich everyth tri get seal approv', 'place awesom want someth light healthi summer', 'sushi strip place go', 'servic great even manag came help tabl', 'feel dine room colleg cook cours high class dine servic slow best', 'start review two star edit give one', 'worst sushi ever eat besid costco', 'excel restaur highlight great servic uniqu menu beauti set', 'boyfriend sat bar complet delight experi', 'weird vibe owner', 'hardli meat', 'better bagel groceri store', 'go place gyro', 'love owner chef one authent japanes cool dude', 'burger good pizza use amaz doughi flavorless', 'found six inch long piec wire salsa', 'servic terribl food mediocr', 'defin enjoy', 'order albondiga soup warm tast like tomato soup frozen meatbal', 'three differ occas ask well done medium well three time got bloodiest piec meat plate', 'two bite refus eat anymor', 'servic extrem slow', 'minut wait got tabl', 'serious killer hot chai latt', 'allergi warn menu waitress absolut clue meal not contain peanut', 'boyfriend tri mediterranean chicken salad fell love', 'rotat beer tap also highlight place', 'price bit concern mellow mushroom', 'worst thai ever', 'stay vega must get breakfast least', 'want first say server great perfect servic', 'pizza select good', 'strawberri tea good', 'highli unprofession rude loyal patron', 'overal great experi', 'spend money elsewher', 'regular toast bread equal satisfi occasion pat butter mmmm', 'buffet bellagio far anticip', 'drink weak peopl', 'order not correct', 'also feel like chip bought not made hous', 'disappoint dinner went elsewher dessert', 'chip sal amaz', 'return', 'new fav vega buffet spot', 'serious cannot believ owner mani unexperienc employe run around like chicken head cut', 'sad', 'felt insult disrespect could talk judg anoth human like', 'call steakhous properli cook steak understand', 'not impress concept food', 'thing crazi guacamol like pur ed', 'realli noth postino hope experi better', 'got food poison buffet', 'brought fresh batch fri think yay someth warm', 'hilari yummi christma eve dinner rememb biggest fail entir trip us', 'needless say go back anytim soon', 'place disgust', 'everi time eat see care teamwork profession degre', 'ri style calamari joke', 'howev much garlic fondu bare edibl', 'could bare stomach meal complain busi lunch', 'bad lost heart finish', 'also took forev bring us check ask', 'one make scene restaur get definit lost love one', 'disappoint experi', 'food par denni say not good', 'want wait mediocr food downright terribl servic place', 'waaaaaayyyyyyyyyi rate say', 'go back', 'place fairli clean food simpli worth', 'place lack style', 'sangria half glass wine full ridicul', 'bother come', 'meat pretti dri slice brisket pull pork', 'build seem pretti neat bathroom pretti trippi eat', 'equal aw', 'probabl not hurri go back', 'slow seat even reserv', 'not good stretch imagin', 'cashew cream sauc bland veget undercook', 'chipolt ranch dip saus tasteless seem thin water heat', 'bit sweet not realli spici enough lack flavor', 'disappoint', 'place horribl way overpr', 'mayb vegetarian fare twice thought averag best', 'busi know', 'tabl outsid also dirti lot time worker not alway friendli help menu', 'ambianc not feel like buffet set douchey indoor garden tea biscuit', 'con spotti servic', 'fri not hot neither burger', 'came back cold', 'food came disappoint ensu', 'real disappoint waiter', 'husband said rude not even apolog bad food anyth', 'reason eat would fill night bing drink get carb stomach', 'insult profound deuchebaggeri go outsid smoke break serv solidifi', 'someon order two taco think may part custom servic ask combo ala cart', 'quit disappoint although blame need place door', 'rave review wait eat disappoint', 'del taco pretti nasti avoid possibl', 'not hard make decent hamburg', 'like', 'hell go back', 'gotten much better servic pizza place next door servic receiv restaur', 'know big deal place back ya', 'immedi said want talk manag not want talk guy shot firebal behind bar', 'ambianc much better', 'unfortun set us disapppoint entre', 'food good', 'server suck wait correct server heimer suck', 'happen next pretti put', 'bad caus know famili own realli want like place', 'overpr get', 'vomit bathroom mid lunch', 'kept look time soon becom minut yet still food', 'place eat circumst would ever return top list', 'start tuna sashimi brownish color obvious fresh', 'food averag', 'sure beat nacho movi would expect littl bit come restaur', 'ha long bay bit flop', 'problem charg sandwich bigger subway sub offer better amount veget', 'shrimp unwrap live mile brushfir liter ice cold', 'lack flavor seem undercook dri', 'realli impress place close', 'would avoid place stay mirag', 'refri bean came meal dri crusti food bland', 'spend money time place els', 'ladi tabl next us found live green caterpillar salad', 'present food aw', 'tell disappoint', 'think food flavor textur lack', 'appetit instantli gone', 'overal not impress would not go back', 'whole experi underwhelm think go ninja sushi next time', 'wast enough life pour salt wound draw time took bring check']\n"
          ]
        }
      ]
    },
    {
      "cell_type": "markdown",
      "source": [
        "Using sklearn, we will convert the text data to numerical token count data, putting this into our X array. Then in the y, we will put the value for the polarity (Liked/Disliked)."
      ],
      "metadata": {
        "id": "S2_JxnbCA5YG"
      }
    },
    {
      "cell_type": "code",
      "source": [
        "from sklearn.feature_extraction.text import CountVectorizer\n",
        "\n",
        "cv = CountVectorizer(max_features = 2000)\n",
        "\n",
        "!mkdir dictionary\n",
        "\n",
        "X = cv.fit_transform(consolidate).toarray()\n",
        "#y = df.iloc[:, -1].values\n",
        "y = df['Liked']"
      ],
      "metadata": {
        "id": "OcpklVCfA0de"
      },
      "execution_count": null,
      "outputs": []
    },
    {
      "cell_type": "markdown",
      "source": [
        "Next, we will need a BoW sentiment model if we want to use our analyzer as a predictor in the future. A Bag of Words (BoW) is a statistical language model that is usually used to analyze text data based on word count. This allows us to transform the dataset into vectors in which each word in the data is assigned a score. the BoW model is only concerned with the number of times a word is repeated. The order is not significant in this case"
      ],
      "metadata": {
        "id": "98SmhFPWiXzm"
      }
    },
    {
      "cell_type": "code",
      "source": [
        "import pickle\n",
        "bow_path = '/content/dictionary/BoW_Sentiment_Model.pkl'\n",
        "pickle.dump(cv, open(bow_path, \"wb\"))"
      ],
      "metadata": {
        "id": "PBMx0-x-t817"
      },
      "execution_count": null,
      "outputs": []
    },
    {
      "cell_type": "markdown",
      "source": [
        "**Note:** *at first I tried to set the y to the values from the last column of the data array, but since the last column was no longer the 1/0 column 'Liked', it threw me an error because the Classifier could not handle floats. So I fixed it, as seen above.*"
      ],
      "metadata": {
        "id": "bIHfCr3b9cuX"
      }
    },
    {
      "cell_type": "markdown",
      "source": [
        "# Step 5 - Split data into training and testing data\n"
      ],
      "metadata": {
        "id": "SL5excoUj-AT"
      }
    },
    {
      "cell_type": "markdown",
      "source": [
        "As has been done before in class, the data will be split into training and testing data using sklearn. We will have the test size be a standard 0.20."
      ],
      "metadata": {
        "id": "PIDZngz4kFfc"
      }
    },
    {
      "cell_type": "code",
      "source": [
        "from sklearn.model_selection import train_test_split\n",
        "X_train, X_test, y_train, y_test = train_test_split(X, y, test_size = 0.20, random_state = 5)"
      ],
      "metadata": {
        "id": "FnbiMdtjuSZJ"
      },
      "execution_count": null,
      "outputs": []
    },
    {
      "cell_type": "markdown",
      "source": [
        "# Step 6 - Fit Data into Model\n",
        "***4. Describe the machine learning algorithms or deep learning algorithms that are used in your project and the reason of selecting such models.***\n",
        "\n",
        "The chart here provided by sklearn gives us a cheat sheet to determine which model and algorithm would be best for the given data and situation: https://scikit-learn.org/stable/tutorial/machine_learning_map/index.html\n",
        "\n",
        "For the purpose of the sentiment analysis of a text dataset of <100k samples, it was decided that the Naive Bayes algorithm would be best for the purpose of this project, specifically the Gaussian Naive Bayes.\n",
        "\n",
        "The Gaussian varient of the Naive Bayes model was chosen due to the better accuracy and overall performance from the model when dealing with gaussian, or normal, distribution in data.\n",
        "\n",
        "Naive bayes is a supervised learning algorithm used for classification and uses features to make a prediction on a target variable, which for the case of sentiment analysis was a good fitting choice of an algorithm.\n"
      ],
      "metadata": {
        "id": "PlOst2SFnE0M"
      }
    },
    {
      "cell_type": "markdown",
      "source": [
        "So we can import GaussianNB model from sklearn and fit our data like this:\n"
      ],
      "metadata": {
        "id": "PH0HkQG0wIQK"
      }
    },
    {
      "cell_type": "code",
      "source": [
        "from sklearn.naive_bayes import GaussianNB\n",
        "model = GaussianNB()\n",
        "model.fit(X_train, y_train)"
      ],
      "metadata": {
        "colab": {
          "base_uri": "https://localhost:8080/",
          "height": 51
        },
        "id": "SHK-TPniwENT",
        "outputId": "5f6009a3-043c-4862-d4be-6e7ed180d91e"
      },
      "execution_count": null,
      "outputs": [
        {
          "output_type": "execute_result",
          "data": {
            "text/plain": [
              "GaussianNB()"
            ],
            "text/html": [
              "<style>#sk-container-id-2 {color: black;background-color: white;}#sk-container-id-2 pre{padding: 0;}#sk-container-id-2 div.sk-toggleable {background-color: white;}#sk-container-id-2 label.sk-toggleable__label {cursor: pointer;display: block;width: 100%;margin-bottom: 0;padding: 0.3em;box-sizing: border-box;text-align: center;}#sk-container-id-2 label.sk-toggleable__label-arrow:before {content: \"▸\";float: left;margin-right: 0.25em;color: #696969;}#sk-container-id-2 label.sk-toggleable__label-arrow:hover:before {color: black;}#sk-container-id-2 div.sk-estimator:hover label.sk-toggleable__label-arrow:before {color: black;}#sk-container-id-2 div.sk-toggleable__content {max-height: 0;max-width: 0;overflow: hidden;text-align: left;background-color: #f0f8ff;}#sk-container-id-2 div.sk-toggleable__content pre {margin: 0.2em;color: black;border-radius: 0.25em;background-color: #f0f8ff;}#sk-container-id-2 input.sk-toggleable__control:checked~div.sk-toggleable__content {max-height: 200px;max-width: 100%;overflow: auto;}#sk-container-id-2 input.sk-toggleable__control:checked~label.sk-toggleable__label-arrow:before {content: \"▾\";}#sk-container-id-2 div.sk-estimator input.sk-toggleable__control:checked~label.sk-toggleable__label {background-color: #d4ebff;}#sk-container-id-2 div.sk-label input.sk-toggleable__control:checked~label.sk-toggleable__label {background-color: #d4ebff;}#sk-container-id-2 input.sk-hidden--visually {border: 0;clip: rect(1px 1px 1px 1px);clip: rect(1px, 1px, 1px, 1px);height: 1px;margin: -1px;overflow: hidden;padding: 0;position: absolute;width: 1px;}#sk-container-id-2 div.sk-estimator {font-family: monospace;background-color: #f0f8ff;border: 1px dotted black;border-radius: 0.25em;box-sizing: border-box;margin-bottom: 0.5em;}#sk-container-id-2 div.sk-estimator:hover {background-color: #d4ebff;}#sk-container-id-2 div.sk-parallel-item::after {content: \"\";width: 100%;border-bottom: 1px solid gray;flex-grow: 1;}#sk-container-id-2 div.sk-label:hover label.sk-toggleable__label {background-color: #d4ebff;}#sk-container-id-2 div.sk-serial::before {content: \"\";position: absolute;border-left: 1px solid gray;box-sizing: border-box;top: 0;bottom: 0;left: 50%;z-index: 0;}#sk-container-id-2 div.sk-serial {display: flex;flex-direction: column;align-items: center;background-color: white;padding-right: 0.2em;padding-left: 0.2em;position: relative;}#sk-container-id-2 div.sk-item {position: relative;z-index: 1;}#sk-container-id-2 div.sk-parallel {display: flex;align-items: stretch;justify-content: center;background-color: white;position: relative;}#sk-container-id-2 div.sk-item::before, #sk-container-id-2 div.sk-parallel-item::before {content: \"\";position: absolute;border-left: 1px solid gray;box-sizing: border-box;top: 0;bottom: 0;left: 50%;z-index: -1;}#sk-container-id-2 div.sk-parallel-item {display: flex;flex-direction: column;z-index: 1;position: relative;background-color: white;}#sk-container-id-2 div.sk-parallel-item:first-child::after {align-self: flex-end;width: 50%;}#sk-container-id-2 div.sk-parallel-item:last-child::after {align-self: flex-start;width: 50%;}#sk-container-id-2 div.sk-parallel-item:only-child::after {width: 0;}#sk-container-id-2 div.sk-dashed-wrapped {border: 1px dashed gray;margin: 0 0.4em 0.5em 0.4em;box-sizing: border-box;padding-bottom: 0.4em;background-color: white;}#sk-container-id-2 div.sk-label label {font-family: monospace;font-weight: bold;display: inline-block;line-height: 1.2em;}#sk-container-id-2 div.sk-label-container {text-align: center;}#sk-container-id-2 div.sk-container {/* jupyter's `normalize.less` sets `[hidden] { display: none; }` but bootstrap.min.css set `[hidden] { display: none !important; }` so we also need the `!important` here to be able to override the default hidden behavior on the sphinx rendered scikit-learn.org. See: https://github.com/scikit-learn/scikit-learn/issues/21755 */display: inline-block !important;position: relative;}#sk-container-id-2 div.sk-text-repr-fallback {display: none;}</style><div id=\"sk-container-id-2\" class=\"sk-top-container\"><div class=\"sk-text-repr-fallback\"><pre>GaussianNB()</pre><b>In a Jupyter environment, please rerun this cell to show the HTML representation or trust the notebook. <br />On GitHub, the HTML representation is unable to render, please try loading this page with nbviewer.org.</b></div><div class=\"sk-container\" hidden><div class=\"sk-item\"><div class=\"sk-estimator sk-toggleable\"><input class=\"sk-toggleable__control sk-hidden--visually\" id=\"sk-estimator-id-2\" type=\"checkbox\" checked><label for=\"sk-estimator-id-2\" class=\"sk-toggleable__label sk-toggleable__label-arrow\">GaussianNB</label><div class=\"sk-toggleable__content\"><pre>GaussianNB()</pre></div></div></div></div></div>"
            ]
          },
          "metadata": {},
          "execution_count": 72
        }
      ]
    },
    {
      "cell_type": "markdown",
      "source": [
        "After fitting our data, we can then generate a confusion matrix as well as the accuracy score for the model."
      ],
      "metadata": {
        "id": "xEhpw_LdGSX2"
      }
    },
    {
      "cell_type": "code",
      "source": [
        "y_pred = model.predict(X_test)\n",
        "\n",
        "from sklearn.metrics import confusion_matrix, accuracy_score\n",
        "confusion_matrix = confusion_matrix(y_test, y_pred)\n",
        "print(confusion_matrix)\n",
        "\n",
        "accuracy_score(y_test, y_pred)"
      ],
      "metadata": {
        "colab": {
          "base_uri": "https://localhost:8080/"
        },
        "id": "0HFvonIuy_tD",
        "outputId": "b621a740-277b-47ef-bb7f-a4c104649fae"
      },
      "execution_count": null,
      "outputs": [
        {
          "output_type": "stream",
          "name": "stdout",
          "text": [
            "[[48 50]\n",
            " [12 90]]\n"
          ]
        },
        {
          "output_type": "execute_result",
          "data": {
            "text/plain": [
              "0.69"
            ]
          },
          "metadata": {},
          "execution_count": 74
        }
      ]
    },
    {
      "cell_type": "markdown",
      "source": [
        "So our final confusion matrix is:\n",
        "\n",
        "[48 50]\n",
        "\n",
        " [12 90]"
      ],
      "metadata": {
        "id": "dyls2sGuG46w"
      }
    },
    {
      "cell_type": "markdown",
      "source": [
        "And our model had an accuracy score of **69%**"
      ],
      "metadata": {
        "id": "SfBjOyxQHAM-"
      }
    },
    {
      "cell_type": "markdown",
      "source": [
        "We can visualize the Confusion Matrix using matplotlib and seaborn:"
      ],
      "metadata": {
        "id": "FAesP6L-IQVN"
      }
    },
    {
      "cell_type": "markdown",
      "source": [
        "![image.png](data:image/png;base64,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)"
      ],
      "metadata": {
        "id": "VCOKiRJGIVtk"
      }
    },
    {
      "cell_type": "markdown",
      "source": [
        "# Conclusion\n",
        "\n",
        "We now have a Sentiment Analysis model that is trained with an accuracy score of 69%. With more adjustments and fine tuning, the model could have better performance and better accuracy. However, we can now use this model along with the generated BoW model to do predictions on other datasets."
      ],
      "metadata": {
        "id": "f8ytj0s7jMQX"
      }
    },
    {
      "cell_type": "markdown",
      "source": [
        "# Final code and results"
      ],
      "metadata": {
        "id": "-fZT-YKCkuCR"
      }
    },
    {
      "cell_type": "code",
      "source": [
        "import os\n",
        "import re\n",
        "import nltk\n",
        "import numpy as np\n",
        "import pandas as pd\n",
        "import matplotlib.pyplot as plt\n",
        "import seaborn as sns\n",
        "import pickle\n",
        "from nltk.corpus import stopwords\n",
        "from nltk.stem.porter import PorterStemmer\n",
        "from nltk.sentiment.vader import SentimentIntensityAnalyzer\n",
        "from sklearn.feature_extraction.text import CountVectorizer\n",
        "from sklearn.metrics import confusion_matrix, accuracy_score\n",
        "\n",
        "# function to plot confusion matrices\n",
        "def plot_confusion_matrix(cnf_matrix, name):\n",
        "    plt.clf()\n",
        "    cm = pd.DataFrame(cnf_matrix, index=np.unique(y), columns=np.unique(y))\n",
        "    cm.index.name = \"Actual\"\n",
        "    cm.columns.name = \"Predicted\"\n",
        "    sns.heatmap(cm, annot=True, cmap=\"YlGnBu\", fmt='g')\n",
        "    plt.title(name + ' Confusion Matrix')\n",
        "    plt.tight_layout()\n",
        "    plt.show()\n",
        "\n",
        "# download natural language lexicon and initialize sentiment analyzer \n",
        "nltk.download('vader_lexicon', quiet=True)\n",
        "sentimentAnalyzer = SentimentIntensityAnalyzer()\n",
        "\n",
        "# import dataset from google drive and read\n",
        "if os.path.exists('/content/datasets/') == False:\n",
        "  !mkdir datasets\n",
        "\n",
        "!cp -r -r /content/drive/MyDrive/MachineLearning/Restaurant_Reviews.tsv /content/datasets/\n",
        "df = pd.read_csv('/content/datasets/Restaurant_Reviews.tsv', sep = '\\t')\n",
        "\n",
        "# create sentiment scores and compound scores columms\n",
        "df['Sentiment scores'] = df['Review'].apply(lambda Review: sentimentAnalyzer.polarity_scores(Review))\n",
        "df.head(1000)\n",
        "df['Compound scores'] = df['Sentiment scores'].apply(lambda score_dict: score_dict['compound'])\n",
        "df.head(1000)\n",
        "\n",
        "# get stop words from nltk\n",
        "nltk.download('stopwords', quiet=True)\n",
        "ps = PorterStemmer()\n",
        "all_stopwords = stopwords.words('english')\n",
        "all_stopwords.remove('not')\n",
        "\n",
        "# create new data with the cleaned dataset data with recursion\n",
        "consolidate = []\n",
        "for i in range(0, 1000):\n",
        "  review = re.sub('[^a-zA-Z]', ' ', df['Review'][i])\n",
        "  review = review.lower()\n",
        "  review = review.split()\n",
        "  review = [ps.stem(word) for word in review if not word in set(all_stopwords)]\n",
        "  review = ' '.join(review)\n",
        "  consolidate.append(review)\n",
        "  consolidate\n",
        "\n",
        "# create Bag of Words dictionary\n",
        "cv = CountVectorizer(max_features = 2000)\n",
        "\n",
        "if os.path.exists('/content/dictionary/') == False:\n",
        "  !mkdir dictionary\n",
        "\n",
        "X = cv.fit_transform(consolidate).toarray()\n",
        "y = df['Liked']\n",
        "\n",
        "bow_path = '/content/dictionary/BoW_Sentiment_Model.pkl'\n",
        "pickle.dump(cv, open(bow_path, \"wb\"))\n",
        "\n",
        "# split data into training and testing\n",
        "from sklearn.model_selection import train_test_split\n",
        "X_train, X_test, y_train, y_test = train_test_split(X, y, test_size = 0.20, random_state = 5)\n",
        "\n",
        "# fit data to model using GaussianNB algorithm\n",
        "from sklearn.naive_bayes import GaussianNB\n",
        "model = GaussianNB()\n",
        "model.fit(X_train, y_train)\n",
        "\n",
        "# measure model performance and accuracy\n",
        "y_pred = model.predict(X_test)\n",
        "\n",
        "# generate confusion matrix\n",
        "confusion_matrix = confusion_matrix(y_test, y_pred)\n",
        "\n",
        "# print results\n",
        "plot_confusion_matrix(confusion_matrix, 'GaussianNB')\n",
        "score = accuracy_score(y_test, y_pred)\n",
        "print(\"Accuracy score: \" + str(score))\n",
        "print(\"Model had an accuracy score of \" + str(score * 100) + \"%\")"
      ],
      "metadata": {
        "colab": {
          "base_uri": "https://localhost:8080/",
          "height": 523
        },
        "id": "yO4X44_fd1Kb",
        "outputId": "e11ff8e8-58e0-4944-9d4c-ba9747e1a9f6"
      },
      "execution_count": 1,
      "outputs": [
        {
          "output_type": "display_data",
          "data": {
            "text/plain": [
              "<Figure size 640x480 with 2 Axes>"
            ],
            "image/png": "[encoded data removed]"
          },
          "metadata": {}
        },
        {
          "output_type": "stream",
          "name": "stdout",
          "text": [
            "Accuracy score: 0.69\n",
            "Model had an accuracy score of 69.0%\n"
          ]
        }
      ]
    },
    {
      "cell_type": "code",
      "source": [
        "df['Sentiment scores'] = df['Review'].apply(lambda Review: sentimentAnalyzer.polarity_scores(Review))\n",
        "df.head(1000)\n",
        "df['Compound scores'] = df['Sentiment scores'].apply(lambda score_dict: score_dict['compound'])\n",
        "df.head(1000)"
      ],
      "metadata": {
        "colab": {
          "base_uri": "https://localhost:8080/",
          "height": 329
        },
        "id": "XwjDQylgmT3L",
        "outputId": "e4c3d319-0e4c-4d3b-93bb-26d17d74ec72"
      },
      "execution_count": null,
      "outputs": [
        {
          "output_type": "execute_result",
          "data": {
            "text/plain": [
              "                                                Review  Liked  \\\n",
              "0                             Wow... Loved this place.      1   \n",
              "1                                   Crust is not good.      0   \n",
              "2            Not tasty and the texture was just nasty.      0   \n",
              "3    Stopped by during the late May bank holiday of...      1   \n",
              "4    The selection on the menu was great and so wer...      1   \n",
              "..                                                 ...    ...   \n",
              "995  I think food should have flavor and texture an...      0   \n",
              "996                           Appetite instantly gone.      0   \n",
              "997  Overall I was not impressed and would not go b...      0   \n",
              "998  The whole experience was underwhelming, and I ...      0   \n",
              "999  Then, as if I hadn't wasted enough of my life ...      0   \n",
              "\n",
              "                                      Sentiment scores  Compound scores  \n",
              "0    {'neg': 0.0, 'neu': 0.435, 'pos': 0.565, 'comp...           0.5994  \n",
              "1    {'neg': 0.445, 'neu': 0.555, 'pos': 0.0, 'comp...          -0.3412  \n",
              "2    {'neg': 0.34, 'neu': 0.66, 'pos': 0.0, 'compou...          -0.5574  \n",
              "3    {'neg': 0.093, 'neu': 0.585, 'pos': 0.322, 'co...           0.6908  \n",
              "4    {'neg': 0.0, 'neu': 0.728, 'pos': 0.272, 'comp...           0.6249  \n",
              "..                                                 ...              ...  \n",
              "995  {'neg': 0.0, 'neu': 1.0, 'pos': 0.0, 'compound...           0.0000  \n",
              "996  {'neg': 0.0, 'neu': 1.0, 'pos': 0.0, 'compound...           0.0000  \n",
              "997  {'neg': 0.242, 'neu': 0.758, 'pos': 0.0, 'comp...          -0.3724  \n",
              "998  {'neg': 0.0, 'neu': 1.0, 'pos': 0.0, 'compound...           0.0000  \n",
              "999  {'neg': 0.0, 'neu': 0.908, 'pos': 0.092, 'comp...           0.3875  \n",
              "\n",
              "[1000 rows x 4 columns]"
            ],
            "text/html": [
              "\n",
              "  <div id=\"df-312b4717-0f3a-41e4-b40d-e97c6f692e9c\">\n",
              "    <div class=\"colab-df-container\">\n",
              "      <div>\n",
              "<style scoped>\n",
              "    .dataframe tbody tr th:only-of-type {\n",
              "        vertical-align: middle;\n",
              "    }\n",
              "\n",
              "    .dataframe tbody tr th {\n",
              "        vertical-align: top;\n",
              "    }\n",
              "\n",
              "    .dataframe thead th {\n",
              "        text-align: right;\n",
              "    }\n",
              "</style>\n",
              "<table border=\"1\" class=\"dataframe\">\n",
              "  <thead>\n",
              "    <tr style=\"text-align: right;\">\n",
              "      <th></th>\n",
              "      <th>Review</th>\n",
              "      <th>Liked</th>\n",
              "      <th>Sentiment scores</th>\n",
              "      <th>Compound scores</th>\n",
              "    </tr>\n",
              "  </thead>\n",
              "  <tbody>\n",
              "    <tr>\n",
              "      <th>0</th>\n",
              "      <td>Wow... Loved this place.</td>\n",
              "      <td>1</td>\n",
              "      <td>{'neg': 0.0, 'neu': 0.435, 'pos': 0.565, 'comp...</td>\n",
              "      <td>0.5994</td>\n",
              "    </tr>\n",
              "    <tr>\n",
              "      <th>1</th>\n",
              "      <td>Crust is not good.</td>\n",
              "      <td>0</td>\n",
              "      <td>{'neg': 0.445, 'neu': 0.555, 'pos': 0.0, 'comp...</td>\n",
              "      <td>-0.3412</td>\n",
              "    </tr>\n",
              "    <tr>\n",
              "      <th>2</th>\n",
              "      <td>Not tasty and the texture was just nasty.</td>\n",
              "      <td>0</td>\n",
              "      <td>{'neg': 0.34, 'neu': 0.66, 'pos': 0.0, 'compou...</td>\n",
              "      <td>-0.5574</td>\n",
              "    </tr>\n",
              "    <tr>\n",
              "      <th>3</th>\n",
              "      <td>Stopped by during the late May bank holiday of...</td>\n",
              "      <td>1</td>\n",
              "      <td>{'neg': 0.093, 'neu': 0.585, 'pos': 0.322, 'co...</td>\n",
              "      <td>0.6908</td>\n",
              "    </tr>\n",
              "    <tr>\n",
              "      <th>4</th>\n",
              "      <td>The selection on the menu was great and so wer...</td>\n",
              "      <td>1</td>\n",
              "      <td>{'neg': 0.0, 'neu': 0.728, 'pos': 0.272, 'comp...</td>\n",
              "      <td>0.6249</td>\n",
              "    </tr>\n",
              "    <tr>\n",
              "      <th>...</th>\n",
              "      <td>...</td>\n",
              "      <td>...</td>\n",
              "      <td>...</td>\n",
              "      <td>...</td>\n",
              "    </tr>\n",
              "    <tr>\n",
              "      <th>995</th>\n",
              "      <td>I think food should have flavor and texture an...</td>\n",
              "      <td>0</td>\n",
              "      <td>{'neg': 0.0, 'neu': 1.0, 'pos': 0.0, 'compound...</td>\n",
              "      <td>0.0000</td>\n",
              "    </tr>\n",
              "    <tr>\n",
              "      <th>996</th>\n",
              "      <td>Appetite instantly gone.</td>\n",
              "      <td>0</td>\n",
              "      <td>{'neg': 0.0, 'neu': 1.0, 'pos': 0.0, 'compound...</td>\n",
              "      <td>0.0000</td>\n",
              "    </tr>\n",
              "    <tr>\n",
              "      <th>997</th>\n",
              "      <td>Overall I was not impressed and would not go b...</td>\n",
              "      <td>0</td>\n",
              "      <td>{'neg': 0.242, 'neu': 0.758, 'pos': 0.0, 'comp...</td>\n",
              "      <td>-0.3724</td>\n",
              "    </tr>\n",
              "    <tr>\n",
              "      <th>998</th>\n",
              "      <td>The whole experience was underwhelming, and I ...</td>\n",
              "      <td>0</td>\n",
              "      <td>{'neg': 0.0, 'neu': 1.0, 'pos': 0.0, 'compound...</td>\n",
              "      <td>0.0000</td>\n",
              "    </tr>\n",
              "    <tr>\n",
              "      <th>999</th>\n",
              "      <td>Then, as if I hadn't wasted enough of my life ...</td>\n",
              "      <td>0</td>\n",
              "      <td>{'neg': 0.0, 'neu': 0.908, 'pos': 0.092, 'comp...</td>\n",
              "      <td>0.3875</td>\n",
              "    </tr>\n",
              "  </tbody>\n",
              "</table>\n",
              "<p>1000 rows × 4 columns</p>\n",
              "</div>\n",
              "      <button class=\"colab-df-convert\" onclick=\"convertToInteractive('df-312b4717-0f3a-41e4-b40d-e97c6f692e9c')\"\n",
              "              title=\"Convert this dataframe to an interactive table.\"\n",
              "              style=\"display:none;\">\n",
              "        \n",
              "  <svg xmlns=\"http://www.w3.org/2000/svg\" height=\"24px\"viewBox=\"0 0 24 24\"\n",
              "       width=\"24px\">\n",
              "    <path d=\"M0 0h24v24H0V0z\" fill=\"none\"/>\n",
              "    <path d=\"M18.56 5.44l.94 2.06.94-2.06 2.06-.94-2.06-.94-.94-2.06-.94 2.06-2.06.94zm-11 1L8.5 8.5l.94-2.06 2.06-.94-2.06-.94L8.5 2.5l-.94 2.06-2.06.94zm10 10l.94 2.06.94-2.06 2.06-.94-2.06-.94-.94-2.06-.94 2.06-2.06.94z\"/><path d=\"M17.41 7.96l-1.37-1.37c-.4-.4-.92-.59-1.43-.59-.52 0-1.04.2-1.43.59L10.3 9.45l-7.72 7.72c-.78.78-.78 2.05 0 2.83L4 21.41c.39.39.9.59 1.41.59.51 0 1.02-.2 1.41-.59l7.78-7.78 2.81-2.81c.8-.78.8-2.07 0-2.86zM5.41 20L4 18.59l7.72-7.72 1.47 1.35L5.41 20z\"/>\n",
              "  </svg>\n",
              "      </button>\n",
              "      \n",
              "  <style>\n",
              "    .colab-df-container {\n",
              "      display:flex;\n",
              "      flex-wrap:wrap;\n",
              "      gap: 12px;\n",
              "    }\n",
              "\n",
              "    .colab-df-convert {\n",
              "      background-color: #E8F0FE;\n",
              "      border: none;\n",
              "      border-radius: 50%;\n",
              "      cursor: pointer;\n",
              "      display: none;\n",
              "      fill: #1967D2;\n",
              "      height: 32px;\n",
              "      padding: 0 0 0 0;\n",
              "      width: 32px;\n",
              "    }\n",
              "\n",
              "    .colab-df-convert:hover {\n",
              "      background-color: #E2EBFA;\n",
              "      box-shadow: 0px 1px 2px rgba(60, 64, 67, 0.3), 0px 1px 3px 1px rgba(60, 64, 67, 0.15);\n",
              "      fill: #174EA6;\n",
              "    }\n",
              "\n",
              "    [theme=dark] .colab-df-convert {\n",
              "      background-color: #3B4455;\n",
              "      fill: #D2E3FC;\n",
              "    }\n",
              "\n",
              "    [theme=dark] .colab-df-convert:hover {\n",
              "      background-color: #434B5C;\n",
              "      box-shadow: 0px 1px 3px 1px rgba(0, 0, 0, 0.15);\n",
              "      filter: drop-shadow(0px 1px 2px rgba(0, 0, 0, 0.3));\n",
              "      fill: #FFFFFF;\n",
              "    }\n",
              "  </style>\n",
              "\n",
              "      <script>\n",
              "        const buttonEl =\n",
              "          document.querySelector('#df-312b4717-0f3a-41e4-b40d-e97c6f692e9c button.colab-df-convert');\n",
              "        buttonEl.style.display =\n",
              "          google.colab.kernel.accessAllowed ? 'block' : 'none';\n",
              "\n",
              "        async function convertToInteractive(key) {\n",
              "          const element = document.querySelector('#df-312b4717-0f3a-41e4-b40d-e97c6f692e9c');\n",
              "          const dataTable =\n",
              "            await google.colab.kernel.invokeFunction('convertToInteractive',\n",
              "                                                     [key], {});\n",
              "          if (!dataTable) return;\n",
              "\n",
              "          const docLinkHtml = 'Like what you see? Visit the ' +\n",
              "            '<a target=\"_blank\" href=https://colab.research.google.com/notebooks/data_table.ipynb>data table notebook</a>'\n",
              "            + ' to learn more about interactive tables.';\n",
              "          element.innerHTML = '';\n",
              "          dataTable['output_type'] = 'display_data';\n",
              "          await google.colab.output.renderOutput(dataTable, element);\n",
              "          const docLink = document.createElement('div');\n",
              "          docLink.innerHTML = docLinkHtml;\n",
              "          element.appendChild(docLink);\n",
              "        }\n",
              "      </script>\n",
              "    </div>\n",
              "  </div>\n",
              "  "
            ]
          },
          "metadata": {},
          "execution_count": 28
        }
      ]
    },
    {
      "cell_type": "markdown",
      "source": [
        "![image.png](data:image/png;base64,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)"
      ],
      "metadata": {
        "id": "nDElMQkxOVwK"
      }
    },
    {
      "cell_type": "markdown",
      "source": [
        "# Libraries/Packages Used:\n",
        "os - to manage directories and file system\n",
        "\n",
        "numpy - For calculations and computations\n",
        "\n",
        "pandas - For data analysis\n",
        "\n",
        "nltk - For Natural Language functions and features\n",
        "\n",
        "pickle - For generation of BoW sentiment model\n",
        "\n",
        "matplotlib - For Plotting and visualization\n",
        "\n",
        "seaborn - For Confusion Matrix Plotting\n",
        "\n",
        "re - For regular expression operations\n",
        "\n",
        "sklearn - For algorithms and models, crucial for machine learning"
      ],
      "metadata": {
        "id": "yuIj4xcDrq8O"
      }
    },
    {
      "cell_type": "markdown",
      "source": [
        "# Resources/Datasets:\n",
        "\n",
        "1.9. naive Bayes. scikit. (n.d.). Retrieved May 4, 2023, from https://scikit-learn.org/stable/modules/naive_bayes.html \n",
        "\n",
        ".\n",
        "\n",
        "Alam, M. H., Ryu, W.-J., Lee, S., 2016. Joint multi-grain topic sentiment: modeling semantic aspects for online reviews. Information Sciences 339, 206–223. (https://www.kaggle.com/datasets/andrewmvd/trip-advisor-hotel-reviews)\n",
        "\n",
        ".\n",
        "\n",
        "Ankthon. (2021, October 7). Python: Sentiment analysis using Vader. GeeksforGeeks. Retrieved April 26, 2023, from https://www.geeksforgeeks.org/python-sentiment-analysis-using-vader/# \n",
        "\n",
        ".\n",
        "\n",
        "Anwar, Arsh, \"Restaurant Reviews\n",
        "Dataset for Natural language Processing\" https://www.kaggle.com/datasets/d4rklucif3r/restaurant-reviews\n",
        "\n",
        ".\n",
        "\n",
        "Natural language processing: Bag-of-words cheatsheet. Codecademy. (n.d.). Retrieved May 4, 2023, from https://www.codecademy.com/learn/dscp-natural-language-processing/modules/dscp-bag-of-words/cheatsheet \n",
        "\n",
        ".\n",
        "\n",
        "Sharma, M. (2020, May 11). Sentiment Analysis (introduction to naive Bayes algorithm). Medium. Retrieved May 4, 2023, from https://towardsdatascience.com/sentiment-analysis-introduction-to-naive-bayes-algorithm-96831d77ac91 \n",
        "\n",
        ".\n",
        "\n",
        "Tsukerman, E. (2019). Machine Learning for Cybersecurity Cookbook: Over 80 recipes on how to implement machine learning algorithms for building security systems using Python. Packt Publishing. (https://github.com/PacktPublishing/Machine-Learning-for-Cybersecurity-Cookbook)\n",
        "\n",
        ".\n",
        "\n",
        "Turing. (2022, March 11). Naive Bayes algorithm in ML: Simplifying classification problems. Naive Bayes Algorithm in ML: Simplifying Classification Problems. Retrieved May 4, 2023, from https://www.turing.com/kb/an-introduction-to-naive-bayes-algorithm-for-beginners "
      ],
      "metadata": {
        "id": "wM4Z8bhCxmYl"
      }
    }
  ]
}
